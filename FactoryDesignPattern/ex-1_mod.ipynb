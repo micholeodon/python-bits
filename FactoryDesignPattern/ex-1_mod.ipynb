{
 "cells": [
  {
   "cell_type": "markdown",
   "metadata": {},
   "source": [
    "Based on: https://refactoring.guru/design-patterns/factory-method/python/example ; accessed 11.07.2024"
   ]
  },
  {
   "cell_type": "code",
   "execution_count": 30,
   "metadata": {},
   "outputs": [],
   "source": [
    "from abc import ABC, abstractmethod"
   ]
  },
  {
   "cell_type": "code",
   "execution_count": 31,
   "metadata": {},
   "outputs": [],
   "source": [
    "class Transport(ABC):\n",
    "\n",
    "    @abstractmethod\n",
    "    def deliver(self) -> None:\n",
    "        pass\n",
    "\n",
    "\n",
    "class Truck(Transport):\n",
    "    def deliver(self) -> None:\n",
    "        print(\"Brum brum to the client!\")\n",
    "    \n",
    "\n",
    "class Ship(Transport):\n",
    "    def deliver(self) -> None:\n",
    "        print(\"Flush flush to the client!\")"
   ]
  },
  {
   "cell_type": "code",
   "execution_count": 32,
   "metadata": {},
   "outputs": [],
   "source": [
    "class Logistics(ABC):\n",
    "\n",
    "    @abstractmethod\n",
    "    def create_transport(self) -> Transport:\n",
    "        pass\n",
    "\n",
    "    def plan_delivery(self) -> None:\n",
    "        transport = self.create_transport()\n",
    "        transport.deliver()\n",
    "        \n",
    "\n",
    "\n",
    "class RoadLogistics(Logistics):\n",
    "    def create_transport(self) -> Transport:\n",
    "        return Truck()\n",
    "\n",
    "class SeaLogistics(Logistics):\n",
    "    def create_transport(self) -> Transport:\n",
    "        return Ship()\n",
    "    "
   ]
  },
  {
   "cell_type": "markdown",
   "metadata": {},
   "source": [
    "### Client Code"
   ]
  },
  {
   "cell_type": "code",
   "execution_count": 33,
   "metadata": {},
   "outputs": [],
   "source": [
    "INLAND = ['GERMANY', 'POLAND']\n",
    "OVERSEAS = ['INDIA', 'AUSTRALIA']\n"
   ]
  },
  {
   "cell_type": "code",
   "execution_count": 34,
   "metadata": {},
   "outputs": [],
   "source": [
    "def delivery_planner(country:str) -> str:\n",
    "\n",
    "    if country in INLAND:\n",
    "        logistics = RoadLogistics()\n",
    "        logistics.plan_delivery()\n",
    "        status = 'Success.'\n",
    "    elif country in OVERSEAS:\n",
    "        logistics = SeaLogistics()\n",
    "        logistics.plan_delivery()\n",
    "        status = 'Success.'\n",
    "    else:\n",
    "        print('Sorry ... this country is not supported by our logistics.')\n",
    "        status = 'Not supported.'\n",
    "\n",
    "    return status"
   ]
  },
  {
   "cell_type": "code",
   "execution_count": 35,
   "metadata": {},
   "outputs": [
    {
     "name": "stdout",
     "output_type": "stream",
     "text": [
      "Planning delivery to POLAND\n",
      "[ STATUS ]: Success.\n"
     ]
    }
   ],
   "source": [
    "country = input('Input country name to plan some transport: \\n').upper()\n",
    "print(f'Planning delivery to {country}')\n",
    "\n",
    "status = delivery_planner(country)\n",
    "\n",
    "print(f\"[ STATUS ]: {status}\")"
   ]
  }
 ],
 "metadata": {
  "kernelspec": {
   "display_name": "Python 3",
   "language": "python",
   "name": "python3"
  },
  "language_info": {
   "codemirror_mode": {
    "name": "ipython",
    "version": 3
   },
   "file_extension": ".py",
   "mimetype": "text/x-python",
   "name": "python",
   "nbconvert_exporter": "python",
   "pygments_lexer": "ipython3",
   "version": "3.11.2"
  }
 },
 "nbformat": 4,
 "nbformat_minor": 2
}
